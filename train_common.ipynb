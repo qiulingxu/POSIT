{
 "cells": [
  {
   "cell_type": "code",
   "execution_count": 1,
   "id": "4287a6e7",
   "metadata": {
    "nterop": {
     "id": "2"
    }
   },
   "outputs": [
    {
     "name": "stdout",
     "output_type": "stream",
     "text": [
      "(116677, 20108) 20108\n",
      "(10000, 20108) 20108\n",
      "(10000, 20108) 20108\n",
      "113\n"
     ]
    }
   ],
   "source": [
    "%load_ext autoreload\n",
    "%autoreload 2\n",
    "from train_body import main\n",
    "from torch.utils.data import  DataLoader\n",
    "from tqdm.notebook import tqdm\n",
    "import torch as T\n",
    "import torch\n",
    "import torch.nn as nn\n",
    "import torch.nn.functional as F\n",
    "from model.arl import ARL_Adversary, ARL\n",
    "from model.ease import EASE\n",
    "from dataset.common import MovieLenDataset, covert_csr_to_torch\n",
    "import numpy as np\n",
    "\n",
    "\n",
    "dataset = \"ml20m\"\n",
    "if dataset in [\"ml20m\",] :\n",
    "    batch_size = 1024\n",
    "else:\n",
    "    batch_size= 8096\n",
    "train_loader = MovieLenDataset(dataset, batch_size=batch_size,shuffle=True)\n",
    "print(len(train_loader))\n",
    "n_dim = train_loader.max_item"
   ]
  },
  {
   "cell_type": "code",
   "execution_count": 6,
   "id": "dc049a81",
   "metadata": {
    "nterop": {
     "id": "535"
    }
   },
   "outputs": [
    {
     "name": "stdout",
     "output_type": "stream",
     "text": [
      "The autoreload extension is already loaded. To reload it, use:\n",
      "  %reload_ext autoreload\n"
     ]
    }
   ],
   "source": [
    "%load_ext autoreload\n",
    "%autoreload 2\n",
    "import torch as T\n",
    "\n",
    "adecay =  0\n",
    "alr = 1\n",
    "dataset = \"nflx\"\n",
    "method = \"itemarl_metric\"\n",
    "loss_name = \"l2\"\n",
    "adv_loss = \"recall_dist\"\n",
    "ones_aware = False\n",
    "#nflx_ease_lr1.00e+00_alr1.00e+00_wd5.00e-05_nstd1.00e+00_awd0.00e+00_ast2mlp50_alossrecall_dist_onesFalse_lam1.00e+00_l2_itemarl_metric\n",
    "struct = \"2bmlp50\" \n",
    "lr = 1\n",
    "worst_ratio = 1.0\n",
    "if method == \"tail\":\n",
    "    lr = 5e-2\n",
    "    lamda = 10.0\n",
    "    worst_ratio = 0.5\n",
    "elif method == \"tail_ld\":\n",
    "    lr = 5e-2\n",
    "    lamda = 1.0\n",
    "    worst_ratio = 0.1\n",
    "elif method == \"itemarl_metric\":\n",
    "    pass\n",
    "    #alr=1\n",
    "lr = 1.0\n",
    "wd = 5.00e-05\n",
    "nstd = 0.5\n",
    "lamda = 1.\n",
    "ipwalpha = 3e-4\n"
   ]
  },
  {
   "cell_type": "code",
   "execution_count": 7,
   "id": "fe422f98",
   "metadata": {
    "nterop": {
     "id": "854"
    }
   },
   "outputs": [
    {
     "name": "stdout",
     "output_type": "stream",
     "text": [
      "ATen/Parallel:\n",
      "\tat::get_num_threads() : 40\n",
      "\tat::get_num_interop_threads() : 48\n",
      "OpenMP 201511 (a.k.a. OpenMP 4.5)\n",
      "\tomp_get_max_threads() : 40\n",
      "Intel(R) Math Kernel Library Version 2020.0.0 Product Build 20191122 for Intel(R) 64 architecture applications\n",
      "\tmkl_get_max_threads() : 40\n",
      "Intel(R) MKL-DNN v2.6.0 (Git Hash 52b5f107dd9cf10910aaa19cb47f3abf9b349815)\n",
      "std::thread::hardware_concurrency() : 96\n",
      "Environment variables:\n",
      "\tOMP_NUM_THREADS : 40\n",
      "\tMKL_NUM_THREADS : 40\n",
      "ATen parallel backend: OpenMP\n",
      "\n",
      "1.12.0+cu102\n"
     ]
    }
   ],
   "source": [
    "\n",
    "import os\n",
    "os.environ[\"NUM_CORES\"]=\"40\"\n",
    "os.environ[\"OMP_NUM_THREADS\"]=\"40\"\n",
    "os.environ[\"MKL_NUM_THREADS\"]=\"40\"\n",
    "T.set_num_threads(40)\n",
    "print(T.__config__.parallel_info())\n",
    "print(T.__version__)"
   ]
  },
  {
   "cell_type": "code",
   "execution_count": null,
   "id": "873cca0f",
   "metadata": {
    "nterop": {
     "id": "65"
    }
   },
   "outputs": [
    {
     "name": "stdout",
     "output_type": "stream",
     "text": [
      "Looking in indexes: https://smartiproxy.mgmt.netflix.net/pypi\n",
      "Requirement already satisfied: torch in /apps/pyenv/versions/3.7.12/lib/python3.7/site-packages (1.12.0)\n",
      "Requirement already satisfied: numpy in /apps/pyenv/versions/3.7.12/lib/python3.7/site-packages (1.21.6)\n",
      "Requirement already satisfied: tqdm in /apps/pyenv/versions/3.7.12/lib/python3.7/site-packages (4.64.0)\n",
      "Requirement already satisfied: sklearn in /apps/pyenv/versions/3.7.12/lib/python3.7/site-packages (0.0)\n",
      "Requirement already satisfied: typing-extensions in /apps/pyenv/versions/3.7.12/lib/python3.7/site-packages (from torch) (4.3.0)\n",
      "Requirement already satisfied: scikit-learn in /apps/pyenv/versions/3.7.12/lib/python3.7/site-packages (from sklearn) (1.0.2)\n",
      "Requirement already satisfied: threadpoolctl>=2.0.0 in /apps/pyenv/versions/3.7.12/lib/python3.7/site-packages (from scikit-learn->sklearn) (3.1.0)\n",
      "Requirement already satisfied: scipy>=1.1.0 in /apps/pyenv/versions/3.7.12/lib/python3.7/site-packages (from scikit-learn->sklearn) (1.7.3)\n",
      "Requirement already satisfied: joblib>=0.11 in /apps/pyenv/versions/3.7.12/lib/python3.7/site-packages (from scikit-learn->sklearn) (1.0.1)\n"
     ]
    },
    {
     "name": "stderr",
     "output_type": "stream",
     "text": [
      "WARNING: You are using pip version 20.2.4; however, version 22.2.2 is available.\n",
      "You should consider upgrading via the '/apps/python3/bin/python3 -m pip install --upgrade pip' command.\n"
     ]
    },
    {
     "name": "stdout",
     "output_type": "stream",
     "text": [
      "(383435, 17769) 17769\n",
      "(40000, 17769) 17769\n",
      "(40000, 17769) 17769\n",
      "374\n",
      "torch.Size([17769, 383435])\n"
     ]
    },
    {
     "data": {
      "application/vnd.jupyter.widget-view+json": {
       "model_id": "65209f13cf8a49f78b96d8730f47091d",
       "version_major": 2,
       "version_minor": 0
      },
      "text/plain": [
       "  0%|          | 0/374 [00:00<?, ?it/s]"
      ]
     },
     "metadata": {
      "nterop": {
       "id": "986"
      }
     },
     "output_type": "display_data"
    },
    {
     "name": "stdout",
     "output_type": "stream",
     "text": [
      "ndcg 0.3888463079929352 on test 0.3899337649345398\n"
     ]
    },
    {
     "data": {
      "application/vnd.jupyter.widget-view+json": {
       "model_id": "7502f22e6b854673ac815505ade340e5",
       "version_major": 2,
       "version_minor": 0
      },
      "text/plain": [
       "  0%|          | 0/374 [00:00<?, ?it/s]"
      ]
     },
     "metadata": {
      "nterop": {
       "id": "987"
      }
     },
     "output_type": "display_data"
    },
    {
     "name": "stdout",
     "output_type": "stream",
     "text": [
      "ndcg 0.388994961977005 on test 0.390235036611557\n"
     ]
    },
    {
     "data": {
      "application/vnd.jupyter.widget-view+json": {
       "model_id": "182a6a8bae4c4223a11b9877717b94dc",
       "version_major": 2,
       "version_minor": 0
      },
      "text/plain": [
       "  0%|          | 0/374 [00:00<?, ?it/s]"
      ]
     },
     "metadata": {
      "nterop": {
       "id": "988"
      }
     },
     "output_type": "display_data"
    },
    {
     "name": "stdout",
     "output_type": "stream",
     "text": [
      "ndcg 0.3891339600086212 on test 0.3901856541633606\n"
     ]
    },
    {
     "data": {
      "application/vnd.jupyter.widget-view+json": {
       "model_id": "e536350cbf3c4582848745069538b2e3",
       "version_major": 2,
       "version_minor": 0
      },
      "text/plain": [
       "  0%|          | 0/374 [00:00<?, ?it/s]"
      ]
     },
     "metadata": {
      "nterop": {
       "id": "989"
      }
     },
     "output_type": "display_data"
    },
    {
     "name": "stdout",
     "output_type": "stream",
     "text": [
      "ndcg 0.38917720317840576 on test 0.3902481198310852\n"
     ]
    },
    {
     "data": {
      "application/vnd.jupyter.widget-view+json": {
       "model_id": "56b8b0b2a1d34d4ab3e75313a2c4d198",
       "version_major": 2,
       "version_minor": 0
      },
      "text/plain": [
       "  0%|          | 0/374 [00:00<?, ?it/s]"
      ]
     },
     "metadata": {
      "nterop": {
       "id": "990"
      }
     },
     "output_type": "display_data"
    }
   ],
   "source": [
    "\n",
    "\n",
    "from train_body import main\n",
    "main(method, loss_name, lamda, adecay=adecay, dataset=dataset, worst_ratio=worst_ratio, lr=lr, alr=alr, adv_loss=adv_loss, nstd=nstd, ones_aware=ones_aware, adv_struct=struct, ipwalpha=ipwalpha, weight_decay=wd, s3=False)"
   ]
  },
  {
   "cell_type": "code",
   "execution_count": 18,
   "id": "98a40ee8",
   "metadata": {
    "nterop": {
     "id": "5"
    }
   },
   "outputs": [
    {
     "data": {
      "image/png": "[encoded data removed]",
      "text/plain": [
       "<Figure size 432x288 with 1 Axes>"
      ]
     },
     "metadata": {
      "needs_background": "light",
      "nterop": {
       "id": "932"
      }
     },
     "output_type": "display_data"
    },
    {
     "data": {
      "image/png": "[encoded data removed]",
      "text/plain": [
       "<Figure size 432x288 with 1 Axes>"
      ]
     },
     "metadata": {
      "needs_background": "light",
      "nterop": {
       "id": "933"
      }
     },
     "output_type": "display_data"
    },
    {
     "data": {
      "text/plain": [
       "Text(0, 0.5, 'recall')"
      ]
     },
     "execution_count": 18,
     "metadata": {
      "nterop": {
       "id": "934"
      }
     },
     "output_type": "execute_result"
    },
    {
     "data": {
      "image/png": "[encoded data removed]",
      "text/plain": [
       "<Figure size 432x288 with 1 Axes>"
      ]
     },
     "metadata": {
      "needs_background": "light",
      "nterop": {
       "id": "935"
      }
     },
     "output_type": "display_data"
    }
   ],
   "source": [
    "import matplotlib.pyplot as plt\n",
    "device = \"cuda:0\"\n",
    "from train_body import es, model\n",
    "from dataset.common import MovieLenDataset, covert_csr_to_torch\n",
    "\n",
    "model.load_state_dict(es.get_best()[\"model_state_dict\"])\n",
    "\n",
    "#model.cuda()\n",
    "model.adversary.train()\n",
    "item = covert_csr_to_torch(train_loader.train_original.transpose()).to(device)\n",
    "#print(model.adversary.norm[0].running_mean)\n",
    "model.adversary.eval()\n",
    "weight_item = model.adversary(item, before_sigmoid=True).detach().cpu().numpy()\n",
    "plt.hist(weight_item, bins=200, density=True)#, range=(-1,1))\n",
    "plt.show()\n",
    "weight_item = model.adversary(item).detach().cpu().numpy()\n",
    "weight_item = list(model.adversary.normalize(model.item_weight).detach().cpu().numpy())\n",
    "weight_item = model.adversary.normalize(model.item_weight).detach().cpu().numpy()\n",
    "\n",
    "plt.hist(weight_item, bins=200, density=True,)\n",
    "plt.show()\n",
    "loss = (model.item_loss/ model.loss_count).detach().cpu().numpy()\n",
    "plt.scatter(x=weight_item, y=-loss, s=0.5)\n",
    "plt.xlabel(\"weight\")\n",
    "plt.ylabel(\"recall\")\n",
    "#print(list((model.item_loss / model.loss_count).detach().cpu().numpy())[2000:2100])"
   ]
  },
  {
   "cell_type": "code",
   "execution_count": null,
   "id": "e1921444",
   "metadata": {
    "nterop": {
     "id": "11"
    }
   },
   "outputs": [],
   "source": []
  }
 ],
 "metadata": {
  "kernelspec": {
   "display_name": "Python 3 (ipykernel)",
   "language": "python",
   "name": "python3"
  },
  "language_info": {
   "codemirror_mode": {
    "name": "ipython",
    "version": 3
   },
   "file_extension": ".py",
   "mimetype": "text/x-python",
   "name": "python",
   "nbconvert_exporter": "python",
   "pygments_lexer": "ipython3",
   "version": "3.7.12"
  },
  "nterop": {
   "seedId": "990"
  }
 },
 "nbformat": 4,
 "nbformat_minor": 5
}
